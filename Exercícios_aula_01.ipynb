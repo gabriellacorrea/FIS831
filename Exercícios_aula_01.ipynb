{
  "nbformat": 4,
  "nbformat_minor": 0,
  "metadata": {
    "colab": {
      "name": "Exercícios_aula_01.ipynb",
      "provenance": [],
      "authorship_tag": "ABX9TyP6ainrD8AwoIvPZJ8Uz2FS",
      "include_colab_link": true
    },
    "kernelspec": {
      "name": "python3",
      "display_name": "Python 3"
    },
    "language_info": {
      "name": "python"
    }
  },
  "cells": [
    {
      "cell_type": "markdown",
      "metadata": {
        "id": "view-in-github",
        "colab_type": "text"
      },
      "source": [
        "<a href=\"https://colab.research.google.com/github/gabriellacorrea/FIS831/blob/main/Exerc%C3%ADcios_aula_01.ipynb\" target=\"_parent\"><img src=\"https://colab.research.google.com/assets/colab-badge.svg\" alt=\"Open In Colab\"/></a>"
      ]
    },
    {
      "cell_type": "markdown",
      "metadata": {
        "id": "No17AhPjjKqF"
      },
      "source": [
        "Exercícios 1: Suponha que a posição de um ponto no espaço bidimensional é dado em coordenadas polares $r$, $\\theta$ \n",
        "e queremos convertê-lo em coordenadas cartesianas x , y.\n",
        "Escreva um programa para fazer essa conversão."
      ]
    },
    {
      "cell_type": "code",
      "metadata": {
        "colab": {
          "base_uri": "https://localhost:8080/"
        },
        "id": "LTkZ-RHzhOhr",
        "outputId": "a5d0fc00-dd7e-484d-b8fa-50bc4c370805"
      },
      "source": [
        "#Obter do usuário os valores de $r$ e $\\theta$.\n",
        "\n",
        "r=input('Entre com o valor da coordenada r: ')\n",
        "theta=input('Entre com o valor da coordenada theta em radianos: ')"
      ],
      "execution_count": null,
      "outputs": [
        {
          "name": "stdout",
          "output_type": "stream",
          "text": [
            "Entre com o valor da coordenada r: 1\n",
            "Entre com o valor da coordenada theta em radianos: 1\n"
          ]
        }
      ]
    },
    {
      "cell_type": "code",
      "metadata": {
        "colab": {
          "base_uri": "https://localhost:8080/"
        },
        "id": "mTfVMLJajJNA",
        "outputId": "39ba32b8-c99a-42e3-b771-57c688a96fb8"
      },
      "source": [
        "#converter esses valores em coordenadas cartesianas usando as fórmulas: $x = rcos(\\theta)$ e $y = rsin(\\theta)$\n",
        "\n",
        "from math import cos,sin\n",
        "\n",
        "x= float(r)* cos(float(theta))\n",
        "y= float(r)* sin(float(theta))\n",
        "\n",
        "print(\"o valor de x é\",x,'e o valor de y é',y)"
      ],
      "execution_count": null,
      "outputs": [
        {
          "output_type": "stream",
          "name": "stdout",
          "text": [
            "o valor de x é 0.5403023058681398 e o valor de y é 0.8414709848078965\n"
          ]
        }
      ]
    },
    {
      "cell_type": "markdown",
      "metadata": {
        "id": "D46IbW3dklmo"
      },
      "source": [
        "\n",
        "\n",
        "\n",
        "Exercício 2: Escreva um programa que compute os principais parametros de um lançamento obliquo dado o módulo da velocidade inicial e o angulo de lançamento. Imprima a saída de maneira que os resultados sejam descritos claramente."
      ]
    },
    {
      "cell_type": "code",
      "metadata": {
        "colab": {
          "base_uri": "https://localhost:8080/"
        },
        "id": "d-AYhnstkpcF",
        "outputId": "9186e899-3549-43d2-aac0-b81fc57f3ed5"
      },
      "source": [
        "#equação horária para o eixo x e y para um lançamento oblíquo\n",
        "\n",
        "v0=input('Entre com o valor para a velocidade inicial: ')\n",
        "ang=input('Entre com o valor para o ângulo de lançamento em radianos: ')\n",
        "\n",
        "vx=float(v0)*cos(float(ang))\n",
        "vy=float(v0)*sin(float(ang))\n",
        "\n",
        "g=9.8 \n",
        "\n",
        "def posicao(v1,v2,t):\n",
        "  x=v1*t\n",
        "  y=v2*t-(g/2)*t**2\n",
        "  return [x,y]\n",
        "\n",
        "tf=2*vy/g\n",
        "\n",
        "print('Entre com o valor para um instante de tempo entre 0 e, ',tf)\n",
        "t=float(input())\n",
        "\n",
        "print('\\n')\n",
        "\n",
        "print('Para um instante t=', t,' após o lançamento a posição pode ser dada por:', posicao(vx,vy,t),' na direção x (horizontal) e y (vertical) respectivamente\\n')\n",
        "\n",
        "\n",
        "def velocidade(v,t):\n",
        "  vfinal=v-g*t\n",
        "  return vfinal\n",
        "\n",
        "print('Em um instante t após o lançamento a velocidade pode ser dada por: ',vx, ' na direção x e ',velocidade(vy,t),' na direção y \\n')\n",
        "#o alcance pode ser encontrado quando y=0 e o tempo é igual a tf\n",
        "\n",
        "t=tf\n",
        "print('A distância que o projétil pode percorrer antes de retornar a y=0 é: ',x,'\\n')\n",
        "\n",
        "#a altura máxima é dada quando a velocidade em y é zero\n",
        "\n",
        "tmeio=vy/g\n",
        "\n",
        "t=tmeio\n",
        "\n",
        "print('A altura máxima que o projétil pode alcançar é:',y,'\\n')\n",
        "\n",
        "\n"
      ],
      "execution_count": null,
      "outputs": [
        {
          "output_type": "stream",
          "name": "stdout",
          "text": [
            "Entre com o valor para a velocidade inicial: 1\n",
            "Entre com o valor para o ângulo de lançamento em radianos: 1\n",
            "Entre com o valor para um instante de tempo entre 0 e,  0.17172877240977477\n",
            "0.1\n",
            "\n",
            "\n",
            "Para um instante t= 0.1  após o lançamento a posição pode ser dada por: [0.05403023058681398, 0.035147098480789646]  na direção x (horizontal) e y (vertical) respectivamente\n",
            "\n",
            "Em um instante t após o lançamento a velocidade pode ser dada por:  0.5403023058681398  na direção x e  -0.1385290151921036  na direção y \n",
            "\n",
            "A distância que o projétil pode percorrer antes de retornar a y=0 é:  0.5403023058681398 \n",
            "\n",
            "A altura máxima que o projétil pode alcançar é: 0.8414709848078965 \n",
            "\n"
          ]
        }
      ]
    },
    {
      "cell_type": "markdown",
      "metadata": {
        "id": "0SRr1SIz0_0r"
      },
      "source": [
        "Escreva um programa que cheque se um numero dado é par ou impar."
      ]
    },
    {
      "cell_type": "code",
      "metadata": {
        "id": "NfJMnixv1Kyx",
        "colab": {
          "base_uri": "https://localhost:8080/"
        },
        "outputId": "8d7b8820-3b11-4a36-9c2b-635b862f49ff"
      },
      "source": [
        "x=input('Digite um número: ')\n",
        "\n",
        "# Se o resto da divisão do número por 2 é zero o número é divisivel por 2 e portanto é par\n",
        "\n",
        "if int(x)%2==0:\n",
        "  print('O número é par \\n')\n",
        "\n",
        "else:\n",
        "  print('O número é ímpar \\n')"
      ],
      "execution_count": null,
      "outputs": [
        {
          "output_type": "stream",
          "name": "stdout",
          "text": [
            "Digite um número: 556\n",
            "O número é par \n",
            "\n"
          ]
        }
      ]
    },
    {
      "cell_type": "markdown",
      "metadata": {
        "id": "RSfAmm6W1938"
      },
      "source": [
        "Exercício 4: Atualizar variável no prompt de comando: Chame Python interativamente e execute as etapas a seguir."
      ]
    },
    {
      "cell_type": "code",
      "metadata": {
        "id": "jIdVRqLl5RZd"
      },
      "source": [
        "x=2\n"
      ],
      "execution_count": null,
      "outputs": []
    },
    {
      "cell_type": "code",
      "metadata": {
        "id": "BJdvM8yc5VOA"
      },
      "source": [
        "x+=3"
      ],
      "execution_count": null,
      "outputs": []
    },
    {
      "cell_type": "code",
      "metadata": {
        "colab": {
          "base_uri": "https://localhost:8080/"
        },
        "id": "QVdV9KvF5Xp5",
        "outputId": "93d4c0bb-d5c0-4ab1-a9c7-0c23ae97acbe"
      },
      "source": [
        "print(x,type(x))"
      ],
      "execution_count": null,
      "outputs": [
        {
          "output_type": "stream",
          "name": "stdout",
          "text": [
            "5 <class 'int'>\n"
          ]
        }
      ]
    },
    {
      "cell_type": "code",
      "metadata": {
        "colab": {
          "base_uri": "https://localhost:8080/"
        },
        "id": "Au1rJYrT5hlm",
        "outputId": "85a6c077-9bbc-48ef-dc7a-9d2f6e36b570"
      },
      "source": [
        "print(x+12,type(x))"
      ],
      "execution_count": null,
      "outputs": [
        {
          "output_type": "stream",
          "name": "stdout",
          "text": [
            "17 <class 'int'>\n"
          ]
        }
      ]
    },
    {
      "cell_type": "code",
      "metadata": {
        "colab": {
          "base_uri": "https://localhost:8080/"
        },
        "id": "IdkG2KIy5xiK",
        "outputId": "681f0482-b698-4847-f7ec-ed8560ae1c4e"
      },
      "source": [
        "print((x+1.0)*2. ,type(x))"
      ],
      "execution_count": null,
      "outputs": [
        {
          "output_type": "stream",
          "name": "stdout",
          "text": [
            "12.0 <class 'int'>\n"
          ]
        }
      ]
    },
    {
      "cell_type": "code",
      "metadata": {
        "colab": {
          "base_uri": "https://localhost:8080/"
        },
        "id": "ORsuPVO56Bpy",
        "outputId": "cd6f6a1a-286f-4d7d-acab-12c8c5c224c5"
      },
      "source": [
        "x=(x+1.)*2.\n",
        "print(x,type(x))"
      ],
      "execution_count": null,
      "outputs": [
        {
          "output_type": "stream",
          "name": "stdout",
          "text": [
            "12.0 <class 'float'>\n"
          ]
        }
      ]
    }
  ]
}